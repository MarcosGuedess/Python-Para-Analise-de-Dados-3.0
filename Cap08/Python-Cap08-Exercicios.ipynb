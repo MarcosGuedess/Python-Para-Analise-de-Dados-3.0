{
 "cells": [
  {
   "cell_type": "code",
   "execution_count": 192,
   "metadata": {},
   "outputs": [
    {
     "name": "stdout",
     "output_type": "stream",
     "text": [
      "Versão da Linguagem Python Usada Neste Jupyter Notebook: 3.9.12\n"
     ]
    }
   ],
   "source": [
    "# Versão da Linguagem Python\n",
    "from platform import python_version\n",
    "print('Versão da Linguagem Python Usada Neste Jupyter Notebook:', python_version())"
   ]
  },
  {
   "cell_type": "markdown",
   "metadata": {},
   "source": [
    "### Exercícios Sobre Módulos Python Para Análise de Dados"
   ]
  },
  {
   "cell_type": "markdown",
   "metadata": {},
   "source": [
    "### Exercício 1"
   ]
  },
  {
   "cell_type": "code",
   "execution_count": 63,
   "metadata": {},
   "outputs": [
    {
     "name": "stdout",
     "output_type": "stream",
     "text": [
      "CPU times: total: 0 ns\n",
      "Wall time: 0 ns\n"
     ]
    }
   ],
   "source": [
    "# Crie um array NumPy com 1.000.000 e uma lista com 1.000.000.\n",
    "# Multiplique cada elemento do array e da lista por 2 e calcule o tempo de execução com cada um dos objetos (use %time).\n",
    "# Qual objeto oferece melhor performance, array NumPy ou lista?\n",
    "\n",
    "import numpy as pd\n",
    "\n",
    "lista = list(map(lambda x:x*2, range(100000)))\n",
    "array = list(map(lambda x: x*2, np.array(range(0,100000))))\n",
    "\n",
    "%time"
   ]
  },
  {
   "cell_type": "markdown",
   "metadata": {},
   "source": [
    "### Exercício 2"
   ]
  },
  {
   "cell_type": "code",
   "execution_count": 75,
   "metadata": {},
   "outputs": [
    {
     "name": "stdout",
     "output_type": "stream",
     "text": [
      "[0 1 2 3 4 0 0 0 8 9]\n"
     ]
    }
   ],
   "source": [
    "# Exercício 2\n",
    "# Crie um array de 10 elementos\n",
    "# Altere o valores de todos os elementos dos índices 5 a 8 para 0\n",
    "\n",
    "import numpy as np\n",
    "#crindo um array de 10 elementos.\n",
    "array = np.array(range(0,10))\n",
    "print(array)\n",
    "\n",
    "#Alterando os indices do 5 ao 8 do array\n",
    "array[5:8] = 0\n",
    "print(array)\n"
   ]
  },
  {
   "cell_type": "markdown",
   "metadata": {},
   "source": [
    "### Exercício 3"
   ]
  },
  {
   "cell_type": "code",
   "execution_count": 76,
   "metadata": {},
   "outputs": [
    {
     "data": {
      "text/plain": [
       "array([[1, 4, 7],\n",
       "       [3, 5, 2]])"
      ]
     },
     "execution_count": 76,
     "metadata": {},
     "output_type": "execute_result"
    }
   ],
   "source": [
    "# Crie um array de 3 dimensões e imprima a dimensão 1 \n",
    "import numpy as pd\n",
    "\n",
    "tresD = np.array([[[1,4,7],[3,5,2]],[[5,6,0],[7,4,1]],[[2,8,8],[0,3,6]]])\n",
    "\n",
    "tresD[0]"
   ]
  },
  {
   "cell_type": "markdown",
   "metadata": {},
   "source": [
    "### Exercício 4"
   ]
  },
  {
   "cell_type": "code",
   "execution_count": 93,
   "metadata": {},
   "outputs": [
    {
     "name": "stdout",
     "output_type": "stream",
     "text": [
      "[[1 2 3]\n",
      " [4 5 6]\n",
      " [7 8 9]]\n",
      "****************************************\n",
      "[7 8 9]\n",
      "****************************************\n",
      "[[2 3]\n",
      " [5 6]]\n"
     ]
    }
   ],
   "source": [
    "# Crie um array de duas dimensões (matriz).\n",
    "# Imprima os elementos da terceira linha da matriz\n",
    "# Imprima todos os elementos da primeira e segunda linhas e segunda e terceira colunas\n",
    "\n",
    "array = np.array([[1, 2, 3], [4, 5, 6], [7, 8, 9]])\n",
    "print(array)\n",
    "print('*'*40)\n",
    "#Elementos da terceira linha\n",
    "print(array[2])\n",
    "print('*'*40)\n",
    "#todos os elementos da primeira e segunda linha \n",
    "\n",
    "print(array[:2,1:])"
   ]
  },
  {
   "cell_type": "markdown",
   "metadata": {},
   "source": [
    "### Exercício 5"
   ]
  },
  {
   "cell_type": "code",
   "execution_count": 101,
   "metadata": {},
   "outputs": [
    {
     "name": "stdout",
     "output_type": "stream",
     "text": [
      "[[ 0  1  2  3  4]\n",
      " [ 5  6  7  8  9]\n",
      " [10 11 12 13 14]]\n",
      "\n",
      "\n"
     ]
    },
    {
     "data": {
      "text/plain": [
       "array([[ 0,  5, 10],\n",
       "       [ 1,  6, 11],\n",
       "       [ 2,  7, 12],\n",
       "       [ 3,  8, 13],\n",
       "       [ 4,  9, 14]])"
      ]
     },
     "execution_count": 101,
     "metadata": {},
     "output_type": "execute_result"
    }
   ],
   "source": [
    "# Calcule a transposta da matriz abaixo\n",
    "arr = np.arange(15).reshape((3, 5))\n",
    "print(arr)\n",
    "print('\\n')\n",
    "arr.T"
   ]
  },
  {
   "cell_type": "markdown",
   "metadata": {},
   "source": [
    "### Exercício 6"
   ]
  },
  {
   "cell_type": "code",
   "execution_count": 121,
   "metadata": {},
   "outputs": [
    {
     "name": "stdout",
     "output_type": "stream",
     "text": [
      "1.1 2.1 True\n",
      "1.2 2.2 False\n",
      "1.3 2.3 True\n",
      "1.4 2.4 True\n",
      "1.5 2.5 False\n",
      "[1.1, 2.2, 1.3, 1.4, 2.5]\n"
     ]
    },
    {
     "data": {
      "text/plain": [
       "[1.1, 2.2, 1.3, 1.4, 2.5]"
      ]
     },
     "execution_count": 121,
     "metadata": {},
     "output_type": "execute_result"
    }
   ],
   "source": [
    "# Considere os 3 arrays abaixo\n",
    "# Retorne o valor do array xarr se o valor for True no array cond. Caso contrário, retorne o valor do array yarr.\n",
    "xarr = np.array([1.1, 1.2, 1.3, 1.4, 1.5])\n",
    "yarr = np.array([2.1, 2.2, 2.3, 2.4, 2.5])\n",
    "cond = np.array([True, False, True, True, False])\n",
    "solucao = []\n",
    "for x,y,z in zip(xarr,yarr,cond):\n",
    "    print(x,y,z)\n",
    "    if z == True:\n",
    "        solucao.append(x)\n",
    "    else:\n",
    "        solucao.append(y)\n",
    "print(solucao)    \n",
    "\n",
    "#solução aplicada pela DSA\n",
    "\n",
    "resultado = [(x if z else y) for x, y, z in zip(xarr, yarr, cond)]\n",
    "resultado"
   ]
  },
  {
   "cell_type": "markdown",
   "metadata": {},
   "source": [
    "### Exercício 7"
   ]
  },
  {
   "cell_type": "code",
   "execution_count": 189,
   "metadata": {},
   "outputs": [
    {
     "name": "stdout",
     "output_type": "stream",
     "text": [
      "[0 1 2 3 4 5 6 7 8 9]\n"
     ]
    }
   ],
   "source": [
    "# Crie um array A com 10 elementos e salve o array em disco com a extensão npy\n",
    "# Depois carregue o array do disco no array B\n",
    "import numpy as np\n",
    "original= np.arange(10)\n",
    "print(original)\n",
    "np.save('array_original', original)"
   ]
  },
  {
   "cell_type": "code",
   "execution_count": 191,
   "metadata": {},
   "outputs": [
    {
     "name": "stdout",
     "output_type": "stream",
     "text": [
      "[0 1 2 3 4 5 6 7 8 9]\n"
     ]
    }
   ],
   "source": [
    "copia = np.load('array_original.npy')\n",
    "print(copia)"
   ]
  },
  {
   "cell_type": "markdown",
   "metadata": {
    "collapsed": true
   },
   "source": [
    "### Exercício 8"
   ]
  },
  {
   "cell_type": "code",
   "execution_count": 127,
   "metadata": {},
   "outputs": [
    {
     "name": "stdout",
     "output_type": "stream",
     "text": [
      "{'c', 'b', 'a', 'd'}\n",
      "['c' 'a' 'd' 'b']\n"
     ]
    }
   ],
   "source": [
    "# Considerando a série abaixo, imprima os valores únicos na série\n",
    "import pandas as pd\n",
    "obj = pd.Series(['c', 'a', 'd', 'a', 'a', 'b', 'b', 'c', 'c', 'a', 'b'])\n",
    "\n",
    "unicos = set(obj)\n",
    "print(unicos) # retorna um dicionário\n",
    "\n",
    "#Sulução da DSA\n",
    "uniques = obj.unique() #Retorna uma lista\n",
    "print(uniques)"
   ]
  },
  {
   "cell_type": "markdown",
   "metadata": {
    "collapsed": true
   },
   "source": [
    "### Exercício 9"
   ]
  },
  {
   "cell_type": "code",
   "execution_count": 132,
   "metadata": {},
   "outputs": [
    {
     "data": {
      "text/plain": [
       "<Response [200]>"
      ]
     },
     "execution_count": 132,
     "metadata": {},
     "output_type": "execute_result"
    }
   ],
   "source": [
    "# Considerando o trecho de código que conecta em uma url na internet, imprima o dataframe conforme abaixo.\n",
    "import requests\n",
    "url = 'https://api.github.com/repos/pandas-dev/pandas/issues'\n",
    "resp = requests.get(url)\n",
    "resp"
   ]
  },
  {
   "cell_type": "code",
   "execution_count": 152,
   "metadata": {},
   "outputs": [
    {
     "data": {
      "text/html": [
       "<div>\n",
       "<style scoped>\n",
       "    .dataframe tbody tr th:only-of-type {\n",
       "        vertical-align: middle;\n",
       "    }\n",
       "\n",
       "    .dataframe tbody tr th {\n",
       "        vertical-align: top;\n",
       "    }\n",
       "\n",
       "    .dataframe thead th {\n",
       "        text-align: right;\n",
       "    }\n",
       "</style>\n",
       "<table border=\"1\" class=\"dataframe\">\n",
       "  <thead>\n",
       "    <tr style=\"text-align: right;\">\n",
       "      <th></th>\n",
       "      <th>url</th>\n",
       "      <th>repository_url</th>\n",
       "      <th>labels_url</th>\n",
       "      <th>comments_url</th>\n",
       "      <th>events_url</th>\n",
       "      <th>html_url</th>\n",
       "      <th>id</th>\n",
       "      <th>node_id</th>\n",
       "      <th>number</th>\n",
       "      <th>title</th>\n",
       "      <th>...</th>\n",
       "      <th>closed_at</th>\n",
       "      <th>author_association</th>\n",
       "      <th>active_lock_reason</th>\n",
       "      <th>draft</th>\n",
       "      <th>pull_request</th>\n",
       "      <th>body</th>\n",
       "      <th>reactions</th>\n",
       "      <th>timeline_url</th>\n",
       "      <th>performed_via_github_app</th>\n",
       "      <th>state_reason</th>\n",
       "    </tr>\n",
       "  </thead>\n",
       "  <tbody>\n",
       "    <tr>\n",
       "      <th>0</th>\n",
       "      <td>https://api.github.com/repos/pandas-dev/pandas...</td>\n",
       "      <td>https://api.github.com/repos/pandas-dev/pandas</td>\n",
       "      <td>https://api.github.com/repos/pandas-dev/pandas...</td>\n",
       "      <td>https://api.github.com/repos/pandas-dev/pandas...</td>\n",
       "      <td>https://api.github.com/repos/pandas-dev/pandas...</td>\n",
       "      <td>https://github.com/pandas-dev/pandas/pull/47558</td>\n",
       "      <td>1290800722</td>\n",
       "      <td>PR_kwDOAA0YD846rTY_</td>\n",
       "      <td>47558</td>\n",
       "      <td>TYP: misc return type annotations</td>\n",
       "      <td>...</td>\n",
       "      <td>NaT</td>\n",
       "      <td>CONTRIBUTOR</td>\n",
       "      <td>NaN</td>\n",
       "      <td>0.0</td>\n",
       "      <td>{'url': 'https://api.github.com/repos/pandas-d...</td>\n",
       "      <td>After this most of the low hanging return anno...</td>\n",
       "      <td>{'url': 'https://api.github.com/repos/pandas-d...</td>\n",
       "      <td>https://api.github.com/repos/pandas-dev/pandas...</td>\n",
       "      <td>NaN</td>\n",
       "      <td>NaN</td>\n",
       "    </tr>\n",
       "    <tr>\n",
       "      <th>1</th>\n",
       "      <td>https://api.github.com/repos/pandas-dev/pandas...</td>\n",
       "      <td>https://api.github.com/repos/pandas-dev/pandas</td>\n",
       "      <td>https://api.github.com/repos/pandas-dev/pandas...</td>\n",
       "      <td>https://api.github.com/repos/pandas-dev/pandas...</td>\n",
       "      <td>https://api.github.com/repos/pandas-dev/pandas...</td>\n",
       "      <td>https://github.com/pandas-dev/pandas/pull/47557</td>\n",
       "      <td>1290756094</td>\n",
       "      <td>PR_kwDOAA0YD846rJ9C</td>\n",
       "      <td>47557</td>\n",
       "      <td>ENH: RangeIndex._shallow_copy can return Range...</td>\n",
       "      <td>...</td>\n",
       "      <td>NaT</td>\n",
       "      <td>MEMBER</td>\n",
       "      <td>NaN</td>\n",
       "      <td>0.0</td>\n",
       "      <td>{'url': 'https://api.github.com/repos/pandas-d...</td>\n",
       "      <td>- [ ] closes #xxxx (Replace xxxx with the Gith...</td>\n",
       "      <td>{'url': 'https://api.github.com/repos/pandas-d...</td>\n",
       "      <td>https://api.github.com/repos/pandas-dev/pandas...</td>\n",
       "      <td>NaN</td>\n",
       "      <td>NaN</td>\n",
       "    </tr>\n",
       "  </tbody>\n",
       "</table>\n",
       "<p>2 rows × 30 columns</p>\n",
       "</div>"
      ],
      "text/plain": [
       "                                                 url  \\\n",
       "0  https://api.github.com/repos/pandas-dev/pandas...   \n",
       "1  https://api.github.com/repos/pandas-dev/pandas...   \n",
       "\n",
       "                                   repository_url  \\\n",
       "0  https://api.github.com/repos/pandas-dev/pandas   \n",
       "1  https://api.github.com/repos/pandas-dev/pandas   \n",
       "\n",
       "                                          labels_url  \\\n",
       "0  https://api.github.com/repos/pandas-dev/pandas...   \n",
       "1  https://api.github.com/repos/pandas-dev/pandas...   \n",
       "\n",
       "                                        comments_url  \\\n",
       "0  https://api.github.com/repos/pandas-dev/pandas...   \n",
       "1  https://api.github.com/repos/pandas-dev/pandas...   \n",
       "\n",
       "                                          events_url  \\\n",
       "0  https://api.github.com/repos/pandas-dev/pandas...   \n",
       "1  https://api.github.com/repos/pandas-dev/pandas...   \n",
       "\n",
       "                                          html_url          id  \\\n",
       "0  https://github.com/pandas-dev/pandas/pull/47558  1290800722   \n",
       "1  https://github.com/pandas-dev/pandas/pull/47557  1290756094   \n",
       "\n",
       "               node_id  number  \\\n",
       "0  PR_kwDOAA0YD846rTY_   47558   \n",
       "1  PR_kwDOAA0YD846rJ9C   47557   \n",
       "\n",
       "                                               title  ... closed_at  \\\n",
       "0                  TYP: misc return type annotations  ...       NaT   \n",
       "1  ENH: RangeIndex._shallow_copy can return Range...  ...       NaT   \n",
       "\n",
       "  author_association active_lock_reason  draft  \\\n",
       "0        CONTRIBUTOR                NaN    0.0   \n",
       "1             MEMBER                NaN    0.0   \n",
       "\n",
       "                                        pull_request  \\\n",
       "0  {'url': 'https://api.github.com/repos/pandas-d...   \n",
       "1  {'url': 'https://api.github.com/repos/pandas-d...   \n",
       "\n",
       "                                                body  \\\n",
       "0  After this most of the low hanging return anno...   \n",
       "1  - [ ] closes #xxxx (Replace xxxx with the Gith...   \n",
       "\n",
       "                                           reactions  \\\n",
       "0  {'url': 'https://api.github.com/repos/pandas-d...   \n",
       "1  {'url': 'https://api.github.com/repos/pandas-d...   \n",
       "\n",
       "                                        timeline_url performed_via_github_app  \\\n",
       "0  https://api.github.com/repos/pandas-dev/pandas...                      NaN   \n",
       "1  https://api.github.com/repos/pandas-dev/pandas...                      NaN   \n",
       "\n",
       "  state_reason  \n",
       "0          NaN  \n",
       "1          NaN  \n",
       "\n",
       "[2 rows x 30 columns]"
      ]
     },
     "execution_count": 152,
     "metadata": {},
     "output_type": "execute_result"
    }
   ],
   "source": [
    "#Vizualizando os nomes das colunas.\n",
    "vizualizando = pd.read_json(url)\n",
    "vizualizando[:2] \n"
   ]
  },
  {
   "cell_type": "code",
   "execution_count": 159,
   "metadata": {},
   "outputs": [
    {
     "data": {
      "text/html": [
       "<div>\n",
       "<style scoped>\n",
       "    .dataframe tbody tr th:only-of-type {\n",
       "        vertical-align: middle;\n",
       "    }\n",
       "\n",
       "    .dataframe tbody tr th {\n",
       "        vertical-align: top;\n",
       "    }\n",
       "\n",
       "    .dataframe thead th {\n",
       "        text-align: right;\n",
       "    }\n",
       "</style>\n",
       "<table border=\"1\" class=\"dataframe\">\n",
       "  <thead>\n",
       "    <tr style=\"text-align: right;\">\n",
       "      <th></th>\n",
       "      <th>id</th>\n",
       "      <th>url</th>\n",
       "      <th>number</th>\n",
       "      <th>title</th>\n",
       "      <th>author_association</th>\n",
       "      <th>state</th>\n",
       "    </tr>\n",
       "  </thead>\n",
       "  <tbody>\n",
       "    <tr>\n",
       "      <th>0</th>\n",
       "      <td>1290756094</td>\n",
       "      <td>https://api.github.com/repos/pandas-dev/pandas...</td>\n",
       "      <td>47557</td>\n",
       "      <td>ENH: RangeIndex._shallow_copy can return Range...</td>\n",
       "      <td>MEMBER</td>\n",
       "      <td>open</td>\n",
       "    </tr>\n",
       "    <tr>\n",
       "      <th>1</th>\n",
       "      <td>1290675587</td>\n",
       "      <td>https://api.github.com/repos/pandas-dev/pandas...</td>\n",
       "      <td>47555</td>\n",
       "      <td>REF: share some constructor code</td>\n",
       "      <td>MEMBER</td>\n",
       "      <td>open</td>\n",
       "    </tr>\n",
       "    <tr>\n",
       "      <th>2</th>\n",
       "      <td>1290039010</td>\n",
       "      <td>https://api.github.com/repos/pandas-dev/pandas...</td>\n",
       "      <td>47554</td>\n",
       "      <td>BUG: Series with same index values, but in dif...</td>\n",
       "      <td>CONTRIBUTOR</td>\n",
       "      <td>open</td>\n",
       "    </tr>\n",
       "    <tr>\n",
       "      <th>3</th>\n",
       "      <td>1289521402</td>\n",
       "      <td>https://api.github.com/repos/pandas-dev/pandas...</td>\n",
       "      <td>47553</td>\n",
       "      <td>REF: Reduce duplicative methods between XML pa...</td>\n",
       "      <td>CONTRIBUTOR</td>\n",
       "      <td>open</td>\n",
       "    </tr>\n",
       "    <tr>\n",
       "      <th>4</th>\n",
       "      <td>1289422658</td>\n",
       "      <td>https://api.github.com/repos/pandas-dev/pandas...</td>\n",
       "      <td>47552</td>\n",
       "      <td>ENH/TST: Add BaseMethodsTests tests for ArrowE...</td>\n",
       "      <td>MEMBER</td>\n",
       "      <td>open</td>\n",
       "    </tr>\n",
       "    <tr>\n",
       "      <th>5</th>\n",
       "      <td>1288978436</td>\n",
       "      <td>https://api.github.com/repos/pandas-dev/pandas...</td>\n",
       "      <td>47550</td>\n",
       "      <td>REGR: Ignore eval inplace</td>\n",
       "      <td>MEMBER</td>\n",
       "      <td>open</td>\n",
       "    </tr>\n",
       "    <tr>\n",
       "      <th>6</th>\n",
       "      <td>1288852049</td>\n",
       "      <td>https://api.github.com/repos/pandas-dev/pandas...</td>\n",
       "      <td>47549</td>\n",
       "      <td>BUG: incorrect result of applying iloc with slice</td>\n",
       "      <td>NONE</td>\n",
       "      <td>open</td>\n",
       "    </tr>\n",
       "    <tr>\n",
       "      <th>7</th>\n",
       "      <td>1288550053</td>\n",
       "      <td>https://api.github.com/repos/pandas-dev/pandas...</td>\n",
       "      <td>47548</td>\n",
       "      <td>TYP: level parameter of DataFrame.groupby has ...</td>\n",
       "      <td>NONE</td>\n",
       "      <td>open</td>\n",
       "    </tr>\n",
       "    <tr>\n",
       "      <th>8</th>\n",
       "      <td>1288404337</td>\n",
       "      <td>https://api.github.com/repos/pandas-dev/pandas...</td>\n",
       "      <td>47547</td>\n",
       "      <td>REGR: NotImplementedErorr: Prefix not defined ...</td>\n",
       "      <td>MEMBER</td>\n",
       "      <td>open</td>\n",
       "    </tr>\n",
       "    <tr>\n",
       "      <th>9</th>\n",
       "      <td>1288365319</td>\n",
       "      <td>https://api.github.com/repos/pandas-dev/pandas...</td>\n",
       "      <td>47545</td>\n",
       "      <td>BUG: datetime index name droped after date_ran...</td>\n",
       "      <td>CONTRIBUTOR</td>\n",
       "      <td>open</td>\n",
       "    </tr>\n",
       "    <tr>\n",
       "      <th>10</th>\n",
       "      <td>1288364342</td>\n",
       "      <td>https://api.github.com/repos/pandas-dev/pandas...</td>\n",
       "      <td>47544</td>\n",
       "      <td>BUG: decimal.Decimal treated as string in Data...</td>\n",
       "      <td>NONE</td>\n",
       "      <td>open</td>\n",
       "    </tr>\n",
       "    <tr>\n",
       "      <th>11</th>\n",
       "      <td>1288341688</td>\n",
       "      <td>https://api.github.com/repos/pandas-dev/pandas...</td>\n",
       "      <td>47543</td>\n",
       "      <td>API: Inconsistent use of `apply` arguments arg...</td>\n",
       "      <td>MEMBER</td>\n",
       "      <td>open</td>\n",
       "    </tr>\n",
       "    <tr>\n",
       "      <th>12</th>\n",
       "      <td>1288282922</td>\n",
       "      <td>https://api.github.com/repos/pandas-dev/pandas...</td>\n",
       "      <td>47542</td>\n",
       "      <td>Having the axis variable in the .apply functio...</td>\n",
       "      <td>NONE</td>\n",
       "      <td>open</td>\n",
       "    </tr>\n",
       "    <tr>\n",
       "      <th>13</th>\n",
       "      <td>1287979506</td>\n",
       "      <td>https://api.github.com/repos/pandas-dev/pandas...</td>\n",
       "      <td>47539</td>\n",
       "      <td>Update `to_gbq` wrapper method to contain `api...</td>\n",
       "      <td>NONE</td>\n",
       "      <td>open</td>\n",
       "    </tr>\n",
       "    <tr>\n",
       "      <th>14</th>\n",
       "      <td>1287772391</td>\n",
       "      <td>https://api.github.com/repos/pandas-dev/pandas...</td>\n",
       "      <td>47534</td>\n",
       "      <td>API: ExtensionArray._from_sequence_of_strings ...</td>\n",
       "      <td>MEMBER</td>\n",
       "      <td>open</td>\n",
       "    </tr>\n",
       "    <tr>\n",
       "      <th>15</th>\n",
       "      <td>1287674797</td>\n",
       "      <td>https://api.github.com/repos/pandas-dev/pandas...</td>\n",
       "      <td>47533</td>\n",
       "      <td>DOC: Add information about StyleFrame, to form...</td>\n",
       "      <td>CONTRIBUTOR</td>\n",
       "      <td>open</td>\n",
       "    </tr>\n",
       "    <tr>\n",
       "      <th>16</th>\n",
       "      <td>1287579308</td>\n",
       "      <td>https://api.github.com/repos/pandas-dev/pandas...</td>\n",
       "      <td>47532</td>\n",
       "      <td>WEB: Update to `jupyterlite==0.1.0b10`</td>\n",
       "      <td>CONTRIBUTOR</td>\n",
       "      <td>open</td>\n",
       "    </tr>\n",
       "    <tr>\n",
       "      <th>17</th>\n",
       "      <td>1287459872</td>\n",
       "      <td>https://api.github.com/repos/pandas-dev/pandas...</td>\n",
       "      <td>47530</td>\n",
       "      <td>WEB: JupyterLite terminal too slow</td>\n",
       "      <td>MEMBER</td>\n",
       "      <td>open</td>\n",
       "    </tr>\n",
       "    <tr>\n",
       "      <th>18</th>\n",
       "      <td>1287291228</td>\n",
       "      <td>https://api.github.com/repos/pandas-dev/pandas...</td>\n",
       "      <td>47529</td>\n",
       "      <td>DOC: missed behavior explaination of sort=Fals...</td>\n",
       "      <td>NONE</td>\n",
       "      <td>open</td>\n",
       "    </tr>\n",
       "    <tr>\n",
       "      <th>19</th>\n",
       "      <td>1286987703</td>\n",
       "      <td>https://api.github.com/repos/pandas-dev/pandas...</td>\n",
       "      <td>47527</td>\n",
       "      <td>Series.map and ignore_na depends on mapping type</td>\n",
       "      <td>NONE</td>\n",
       "      <td>open</td>\n",
       "    </tr>\n",
       "    <tr>\n",
       "      <th>20</th>\n",
       "      <td>1286963118</td>\n",
       "      <td>https://api.github.com/repos/pandas-dev/pandas...</td>\n",
       "      <td>47526</td>\n",
       "      <td>DOC: Malformed list in sphinx output and other...</td>\n",
       "      <td>NONE</td>\n",
       "      <td>open</td>\n",
       "    </tr>\n",
       "    <tr>\n",
       "      <th>21</th>\n",
       "      <td>1286943976</td>\n",
       "      <td>https://api.github.com/repos/pandas-dev/pandas...</td>\n",
       "      <td>47525</td>\n",
       "      <td>DOC: Mention \"StyleFrame\" package in \"DataFram...</td>\n",
       "      <td>NONE</td>\n",
       "      <td>open</td>\n",
       "    </tr>\n",
       "    <tr>\n",
       "      <th>22</th>\n",
       "      <td>1286591632</td>\n",
       "      <td>https://api.github.com/repos/pandas-dev/pandas...</td>\n",
       "      <td>47523</td>\n",
       "      <td>CI: Debug Mac/Windows timeouts</td>\n",
       "      <td>MEMBER</td>\n",
       "      <td>open</td>\n",
       "    </tr>\n",
       "    <tr>\n",
       "      <th>23</th>\n",
       "      <td>1286532691</td>\n",
       "      <td>https://api.github.com/repos/pandas-dev/pandas...</td>\n",
       "      <td>47521</td>\n",
       "      <td>TYP: Missing Return Annotations</td>\n",
       "      <td>CONTRIBUTOR</td>\n",
       "      <td>open</td>\n",
       "    </tr>\n",
       "    <tr>\n",
       "      <th>24</th>\n",
       "      <td>1286074977</td>\n",
       "      <td>https://api.github.com/repos/pandas-dev/pandas...</td>\n",
       "      <td>47519</td>\n",
       "      <td>BUG: plot contains too many labels in the axis</td>\n",
       "      <td>NONE</td>\n",
       "      <td>open</td>\n",
       "    </tr>\n",
       "    <tr>\n",
       "      <th>25</th>\n",
       "      <td>1285953894</td>\n",
       "      <td>https://api.github.com/repos/pandas-dev/pandas...</td>\n",
       "      <td>47518</td>\n",
       "      <td>PERF: use c-division in nancorr</td>\n",
       "      <td>MEMBER</td>\n",
       "      <td>open</td>\n",
       "    </tr>\n",
       "    <tr>\n",
       "      <th>26</th>\n",
       "      <td>1285075103</td>\n",
       "      <td>https://api.github.com/repos/pandas-dev/pandas...</td>\n",
       "      <td>47515</td>\n",
       "      <td>ENH/TST: Add BaseGroupbyTests tests for ArrowE...</td>\n",
       "      <td>MEMBER</td>\n",
       "      <td>open</td>\n",
       "    </tr>\n",
       "    <tr>\n",
       "      <th>27</th>\n",
       "      <td>1285051682</td>\n",
       "      <td>https://api.github.com/repos/pandas-dev/pandas...</td>\n",
       "      <td>47514</td>\n",
       "      <td>API: ExtensionArray._concat_same_type doesn't ...</td>\n",
       "      <td>MEMBER</td>\n",
       "      <td>open</td>\n",
       "    </tr>\n",
       "    <tr>\n",
       "      <th>28</th>\n",
       "      <td>1285007724</td>\n",
       "      <td>https://api.github.com/repos/pandas-dev/pandas...</td>\n",
       "      <td>47513</td>\n",
       "      <td>\"Backport PR #47387 on branch 1.4.x (TST,WARN:...</td>\n",
       "      <td>MEMBER</td>\n",
       "      <td>open</td>\n",
       "    </tr>\n",
       "    <tr>\n",
       "      <th>29</th>\n",
       "      <td>1284929524</td>\n",
       "      <td>https://api.github.com/repos/pandas-dev/pandas...</td>\n",
       "      <td>47511</td>\n",
       "      <td>PERF: lexsort_depth</td>\n",
       "      <td>MEMBER</td>\n",
       "      <td>open</td>\n",
       "    </tr>\n",
       "  </tbody>\n",
       "</table>\n",
       "</div>"
      ],
      "text/plain": [
       "            id                                                url  number  \\\n",
       "0   1290756094  https://api.github.com/repos/pandas-dev/pandas...   47557   \n",
       "1   1290675587  https://api.github.com/repos/pandas-dev/pandas...   47555   \n",
       "2   1290039010  https://api.github.com/repos/pandas-dev/pandas...   47554   \n",
       "3   1289521402  https://api.github.com/repos/pandas-dev/pandas...   47553   \n",
       "4   1289422658  https://api.github.com/repos/pandas-dev/pandas...   47552   \n",
       "5   1288978436  https://api.github.com/repos/pandas-dev/pandas...   47550   \n",
       "6   1288852049  https://api.github.com/repos/pandas-dev/pandas...   47549   \n",
       "7   1288550053  https://api.github.com/repos/pandas-dev/pandas...   47548   \n",
       "8   1288404337  https://api.github.com/repos/pandas-dev/pandas...   47547   \n",
       "9   1288365319  https://api.github.com/repos/pandas-dev/pandas...   47545   \n",
       "10  1288364342  https://api.github.com/repos/pandas-dev/pandas...   47544   \n",
       "11  1288341688  https://api.github.com/repos/pandas-dev/pandas...   47543   \n",
       "12  1288282922  https://api.github.com/repos/pandas-dev/pandas...   47542   \n",
       "13  1287979506  https://api.github.com/repos/pandas-dev/pandas...   47539   \n",
       "14  1287772391  https://api.github.com/repos/pandas-dev/pandas...   47534   \n",
       "15  1287674797  https://api.github.com/repos/pandas-dev/pandas...   47533   \n",
       "16  1287579308  https://api.github.com/repos/pandas-dev/pandas...   47532   \n",
       "17  1287459872  https://api.github.com/repos/pandas-dev/pandas...   47530   \n",
       "18  1287291228  https://api.github.com/repos/pandas-dev/pandas...   47529   \n",
       "19  1286987703  https://api.github.com/repos/pandas-dev/pandas...   47527   \n",
       "20  1286963118  https://api.github.com/repos/pandas-dev/pandas...   47526   \n",
       "21  1286943976  https://api.github.com/repos/pandas-dev/pandas...   47525   \n",
       "22  1286591632  https://api.github.com/repos/pandas-dev/pandas...   47523   \n",
       "23  1286532691  https://api.github.com/repos/pandas-dev/pandas...   47521   \n",
       "24  1286074977  https://api.github.com/repos/pandas-dev/pandas...   47519   \n",
       "25  1285953894  https://api.github.com/repos/pandas-dev/pandas...   47518   \n",
       "26  1285075103  https://api.github.com/repos/pandas-dev/pandas...   47515   \n",
       "27  1285051682  https://api.github.com/repos/pandas-dev/pandas...   47514   \n",
       "28  1285007724  https://api.github.com/repos/pandas-dev/pandas...   47513   \n",
       "29  1284929524  https://api.github.com/repos/pandas-dev/pandas...   47511   \n",
       "\n",
       "                                                title author_association state  \n",
       "0   ENH: RangeIndex._shallow_copy can return Range...             MEMBER  open  \n",
       "1                    REF: share some constructor code             MEMBER  open  \n",
       "2   BUG: Series with same index values, but in dif...        CONTRIBUTOR  open  \n",
       "3   REF: Reduce duplicative methods between XML pa...        CONTRIBUTOR  open  \n",
       "4   ENH/TST: Add BaseMethodsTests tests for ArrowE...             MEMBER  open  \n",
       "5                           REGR: Ignore eval inplace             MEMBER  open  \n",
       "6   BUG: incorrect result of applying iloc with slice               NONE  open  \n",
       "7   TYP: level parameter of DataFrame.groupby has ...               NONE  open  \n",
       "8   REGR: NotImplementedErorr: Prefix not defined ...             MEMBER  open  \n",
       "9   BUG: datetime index name droped after date_ran...        CONTRIBUTOR  open  \n",
       "10  BUG: decimal.Decimal treated as string in Data...               NONE  open  \n",
       "11  API: Inconsistent use of `apply` arguments arg...             MEMBER  open  \n",
       "12  Having the axis variable in the .apply functio...               NONE  open  \n",
       "13  Update `to_gbq` wrapper method to contain `api...               NONE  open  \n",
       "14  API: ExtensionArray._from_sequence_of_strings ...             MEMBER  open  \n",
       "15  DOC: Add information about StyleFrame, to form...        CONTRIBUTOR  open  \n",
       "16             WEB: Update to `jupyterlite==0.1.0b10`        CONTRIBUTOR  open  \n",
       "17                 WEB: JupyterLite terminal too slow             MEMBER  open  \n",
       "18  DOC: missed behavior explaination of sort=Fals...               NONE  open  \n",
       "19   Series.map and ignore_na depends on mapping type               NONE  open  \n",
       "20  DOC: Malformed list in sphinx output and other...               NONE  open  \n",
       "21  DOC: Mention \"StyleFrame\" package in \"DataFram...               NONE  open  \n",
       "22                     CI: Debug Mac/Windows timeouts             MEMBER  open  \n",
       "23                    TYP: Missing Return Annotations        CONTRIBUTOR  open  \n",
       "24     BUG: plot contains too many labels in the axis               NONE  open  \n",
       "25                    PERF: use c-division in nancorr             MEMBER  open  \n",
       "26  ENH/TST: Add BaseGroupbyTests tests for ArrowE...             MEMBER  open  \n",
       "27  API: ExtensionArray._concat_same_type doesn't ...             MEMBER  open  \n",
       "28  \"Backport PR #47387 on branch 1.4.x (TST,WARN:...             MEMBER  open  \n",
       "29                                PERF: lexsort_depth             MEMBER  open  "
      ]
     },
     "execution_count": 159,
     "metadata": {},
     "output_type": "execute_result"
    }
   ],
   "source": [
    "arq = resp.json()\n",
    "df = pd.DataFrame(arq, columns=['id','url','number', 'title','author_association', 'state'])\n",
    "df"
   ]
  },
  {
   "cell_type": "markdown",
   "metadata": {},
   "source": [
    "### Exercício 10"
   ]
  },
  {
   "cell_type": "code",
   "execution_count": 174,
   "metadata": {},
   "outputs": [],
   "source": [
    "# Crie um banco de dados no SQLite, crie uma tabela, insira registros, \n",
    "# consulte a tabela e retorne os dados em dataframe do Pandas\n",
    "import sqlite3\n",
    "\n",
    "#Criando a conexão e a query \n",
    "queryC = '''\n",
    "    CREATE TABLE exercicio (\n",
    "    id INTEGER NOT NULL ,\n",
    "    nome Varchar(40) NOT NULL,\n",
    "    estado Varchar(20) NOT NULL,\n",
    "    cidade Varchar(20) NOT NULL,\n",
    "    pais Varchar(20) NOT NULL DEFAULT 'Brasil',\n",
    "    PRIMARY KEY(\"id\" AUTOINCREMENT)\n",
    ");\n",
    "    \n",
    "'''\n",
    "\n",
    "conexao = sqlite3.connect('exercicio.db')\n",
    "conexao.execute(queryC)\n",
    "conexao.commit()"
   ]
  },
  {
   "cell_type": "code",
   "execution_count": 175,
   "metadata": {},
   "outputs": [],
   "source": [
    "dados = [(1, 'Marcos Guedes', 'São Paulo', 'Araras', 'Brasil'),\n",
    "        (2,'Harry Potter', 'Acre','Rio branco','Brasil'),\n",
    "        (3,'Flavia','Paraná', 'Londrina', 'Italia')]\n",
    "queryI = \"INSERT INTO exercicio VALUES(?,?, ?, ?, ?)\"\n",
    "conexao.executemany(queryI, dados)\n",
    "conexao.commit()"
   ]
  },
  {
   "cell_type": "code",
   "execution_count": 183,
   "metadata": {},
   "outputs": [
    {
     "data": {
      "text/html": [
       "<div>\n",
       "<style scoped>\n",
       "    .dataframe tbody tr th:only-of-type {\n",
       "        vertical-align: middle;\n",
       "    }\n",
       "\n",
       "    .dataframe tbody tr th {\n",
       "        vertical-align: top;\n",
       "    }\n",
       "\n",
       "    .dataframe thead th {\n",
       "        text-align: right;\n",
       "    }\n",
       "</style>\n",
       "<table border=\"1\" class=\"dataframe\">\n",
       "  <thead>\n",
       "    <tr style=\"text-align: right;\">\n",
       "      <th></th>\n",
       "      <th>nome</th>\n",
       "      <th>estado</th>\n",
       "      <th>cidade</th>\n",
       "      <th>Pais</th>\n",
       "    </tr>\n",
       "    <tr>\n",
       "      <th>id</th>\n",
       "      <th></th>\n",
       "      <th></th>\n",
       "      <th></th>\n",
       "      <th></th>\n",
       "    </tr>\n",
       "  </thead>\n",
       "  <tbody>\n",
       "    <tr>\n",
       "      <th>1</th>\n",
       "      <td>Marcos Guedes</td>\n",
       "      <td>São Paulo</td>\n",
       "      <td>Araras</td>\n",
       "      <td>Brasil</td>\n",
       "    </tr>\n",
       "    <tr>\n",
       "      <th>2</th>\n",
       "      <td>Harry Potter</td>\n",
       "      <td>Acre</td>\n",
       "      <td>Rio branco</td>\n",
       "      <td>Brasil</td>\n",
       "    </tr>\n",
       "    <tr>\n",
       "      <th>3</th>\n",
       "      <td>Flavia</td>\n",
       "      <td>Paraná</td>\n",
       "      <td>Londrina</td>\n",
       "      <td>Italia</td>\n",
       "    </tr>\n",
       "  </tbody>\n",
       "</table>\n",
       "</div>"
      ],
      "text/plain": [
       "             nome     estado      cidade    Pais\n",
       "id                                              \n",
       "1   Marcos Guedes  São Paulo      Araras  Brasil\n",
       "2    Harry Potter       Acre  Rio branco  Brasil\n",
       "3          Flavia     Paraná    Londrina  Italia"
      ]
     },
     "execution_count": 183,
     "metadata": {},
     "output_type": "execute_result"
    }
   ],
   "source": [
    "import pandas as pd\n",
    "cursor = conexao.execute('SELECT * FROM exercicio')\n",
    "df = pd.DataFrame(list(cursor), columns = ['id','nome','estado','cidade','Pais'])\n",
    "#Ajustando para uma melhor vizualização dos index como ID.\n",
    "df.set_index('id') \n"
   ]
  },
  {
   "cell_type": "markdown",
   "metadata": {},
   "source": [
    "# Fim"
   ]
  }
 ],
 "metadata": {
  "kernelspec": {
   "display_name": "Python 3 (ipykernel)",
   "language": "python",
   "name": "python3"
  },
  "language_info": {
   "codemirror_mode": {
    "name": "ipython",
    "version": 3
   },
   "file_extension": ".py",
   "mimetype": "text/x-python",
   "name": "python",
   "nbconvert_exporter": "python",
   "pygments_lexer": "ipython3",
   "version": "3.9.12"
  }
 },
 "nbformat": 4,
 "nbformat_minor": 1
}
