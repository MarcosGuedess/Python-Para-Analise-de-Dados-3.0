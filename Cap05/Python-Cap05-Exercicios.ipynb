{
 "cells": [
  {
   "cell_type": "code",
   "execution_count": 2,
   "metadata": {
    "scrolled": true
   },
   "outputs": [
    {
     "name": "stdout",
     "output_type": "stream",
     "text": [
      "Versão da Linguagem Python Usada Neste Jupyter Notebook: 3.9.12\n"
     ]
    }
   ],
   "source": [
    "# Versão da Linguagem Python\n",
    "from platform import python_version\n",
    "print('Versão da Linguagem Python Usada Neste Jupyter Notebook:', python_version())"
   ]
  },
  {
   "cell_type": "markdown",
   "metadata": {},
   "source": [
    "## Exercícios"
   ]
  },
  {
   "cell_type": "code",
   "execution_count": 9,
   "metadata": {},
   "outputs": [
    {
     "name": "stdout",
     "output_type": "stream",
     "text": [
      "2\n",
      "3\n",
      "2 3\n",
      "4 6\n"
     ]
    }
   ],
   "source": [
    "# Exercício 1 - Crie um objeto a partir da classe abaixo, chamado roc1, passando 2 parâmetros e depois faça uma chamada\n",
    "# aos atributos e métodos\n",
    "from math import sqrt\n",
    "\n",
    "class Rocket():\n",
    "     \n",
    "    def __init__(self, x=0, y=0):\n",
    "        self.x = x\n",
    "        self.y = y\n",
    "        \n",
    "    def move_rocket(self, x_increment=0, y_increment=1):\n",
    "        self.x += x_increment\n",
    "        self.y += y_increment\n",
    "        \n",
    "    def print_rocket(self):\n",
    "        print(self.x, self.y)\n",
    "        \n",
    "#Criando um objeto\n",
    "roc1 = Rocket(2,3)\n",
    "print(roc1.x)\n",
    "print(roc1.y)\n",
    "roc1.print_rocket()\n",
    "roc1.move_rocket(2,3)\n",
    "roc1.print_rocket()\n",
    "        "
   ]
  },
  {
   "cell_type": "code",
   "execution_count": 13,
   "metadata": {},
   "outputs": [
    {
     "name": "stdout",
     "output_type": "stream",
     "text": [
      "cadastro criado\n"
     ]
    },
    {
     "data": {
      "text/plain": [
       "'O Marcos mora na cidade: Araras seu telefone é: (xx)x xxxx-xxxx se e-mail é: marcos.guedes@gmail.com'"
      ]
     },
     "execution_count": 13,
     "metadata": {},
     "output_type": "execute_result"
    }
   ],
   "source": [
    "# Exercício 2 - Crie uma classe chamada Pessoa() com os atributos: nome, cidade, telefone e e-mail. Use pelo menos 2\n",
    "# métodos especiais na sua classe. Crie um objeto da sua classe e faça uma chamada a pelo menos um dos seus métodos\n",
    "# especiais.\n",
    "\n",
    "class Pessoa():\n",
    "\n",
    "    def __init__(self, nome, cidade, telefone, email):\n",
    "        print('cadastro criado')\n",
    "        self.nome = nome\n",
    "        self.cidade = cidade\n",
    "        self.telefone = telefone\n",
    "        self.email = email\n",
    "        \n",
    "    def __str__(self):\n",
    "        return 'O ' + self.nome + ' mora na cidade: ' + self.cidade +' seu telefone é: '+ self.telefone + ' se e-mail é: ' + self.email\n",
    "    \n",
    "usuario1 = Pessoa('Marcos','Araras','(xx)x xxxx-xxxx','marcos.guedes@gmail.com')\n",
    "\n",
    "str(usuario1)"
   ]
  },
  {
   "cell_type": "code",
   "execution_count": 24,
   "metadata": {},
   "outputs": [
    {
     "name": "stdout",
     "output_type": "stream",
     "text": [
      "objeto instaciado\n",
      "O seu celular Smartphone tem o tamanho normal e com a interface: simples com capacidade de armazenamento de : 32GB\n"
     ]
    }
   ],
   "source": [
    "# Exercício 3 - Crie a classe Smartphone com 2 atributos, tamanho e interface e crie a classe MP3Player com os \n",
    "# atributos capacidade. A classe MP3player deve herdar os atributos da classe Smartphone.\n",
    "\n",
    "\n",
    "class Smartphone(object):\n",
    "    def __init__(self, tamanho = 'normal', interface = 'simples'):\n",
    "        self.tamanho = tamanho\n",
    "        self.interface = interface\n",
    "        print('objeto instaciado')\n",
    "        \n",
    "class Mp3player(Smartphone):\n",
    "    def __init__(self, capacidade = '32GB', tamanho = 'normal', interface = 'simples'):\n",
    "        self.capacidade = capacidade\n",
    "        Smartphone.__init__(self, tamanho, interface)\n",
    "    def printar(self):\n",
    "        print(f'O seu celular Smartphone tem o tamanho {self.tamanho} e com a interface: {self.interface} com capacidade de armazenamento de : {self.capacidade}')\n",
    "            \n",
    "        \n",
    "celular = Mp3player()   \n",
    "\n",
    "celular.printar()"
   ]
  }
 ],
 "metadata": {
  "kernelspec": {
   "display_name": "Python 3 (ipykernel)",
   "language": "python",
   "name": "python3"
  },
  "language_info": {
   "codemirror_mode": {
    "name": "ipython",
    "version": 3
   },
   "file_extension": ".py",
   "mimetype": "text/x-python",
   "name": "python",
   "nbconvert_exporter": "python",
   "pygments_lexer": "ipython3",
   "version": "3.9.12"
  }
 },
 "nbformat": 4,
 "nbformat_minor": 1
}
